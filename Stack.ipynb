{
 "cells": [
  {
   "cell_type": "markdown",
   "metadata": {},
   "source": [
    "# Stack Linked List Implementation"
   ]
  },
  {
   "cell_type": "code",
   "execution_count": 2,
   "metadata": {},
   "outputs": [
    {
     "name": "stdout",
     "output_type": "stream",
     "text": [
      "Length of node is -> 0\n",
      "-> facebook\n",
      "-> check\n",
      "-> gmail\n",
      "-> google\n",
      "\n",
      "Length of node is -> 4\n",
      "Top node is -> facebook\n",
      "Poped node is -> facebook\n",
      "-> check\n",
      "-> gmail\n",
      "-> google\n",
      "\n",
      "Length of node is -> 3\n"
     ]
    }
   ],
   "source": [
    "class node:\n",
    "    def __init__(self,data=None):\n",
    "        self.data=data\n",
    "        self.next=None\n",
    "\n",
    "class Stack:\n",
    "    def __init__(self):\n",
    "        self.top=None;\n",
    "        self.bottom = None;\n",
    "        self.length=0;\n",
    "        \n",
    "\n",
    "    def push(self,data):\n",
    "        new_node = node(data)\n",
    "        if(self.length == 0):\n",
    "            self.top = new_node\n",
    "            self.bottom = new_node\n",
    "        else:\n",
    "            leaderPointer = self.top\n",
    "            self.top = new_node\n",
    "            self.top.next = leaderPointer\n",
    "        \n",
    "        self.length +=1\n",
    "        return self\n",
    "    \n",
    "    def pop(self):\n",
    "        if(self.top == None):\n",
    "            return None\n",
    "        if(self.top == self.bottom):\n",
    "            self.bottom = None\n",
    "        leaderPointer = self.top\n",
    "        self.top = self.top.next\n",
    "        self.length -=1\n",
    "        \n",
    "        return leaderPointer.data\n",
    "          \n",
    "            \n",
    "    def lookup(self):\n",
    "        cur_node = self.top \n",
    "        if self.top == None: \n",
    "            print(\"Stack Underflow\") \n",
    "        else:  \n",
    "            while(cur_node != None): \n",
    "                print('->',cur_node.data) \n",
    "                cur_node = cur_node.next\n",
    "            print('')\n",
    "            return\n",
    "            \n",
    "            \n",
    "        \n",
    "    def peek(self):\n",
    "        return self.top.data\n",
    "        \n",
    "        \n",
    "        \n",
    "        \n",
    "myStack = Stack()\n",
    "print('Length of node is ->',myStack.length)\n",
    "myStack.push('google')\n",
    "myStack.push('gmail')\n",
    "myStack.push('check')\n",
    "myStack.push('facebook')\n",
    "myStack.lookup()\n",
    "print('Length of node is ->',myStack.length)\n",
    "print('Top node is ->',myStack.peek())\n",
    "print('Poped node is ->',myStack.pop())\n",
    "myStack.lookup()\n",
    "print('Length of node is ->',myStack.length)"
   ]
  },
  {
   "cell_type": "code",
   "execution_count": null,
   "metadata": {},
   "outputs": [],
   "source": []
  }
 ],
 "metadata": {
  "kernelspec": {
   "display_name": "Python 3",
   "language": "python",
   "name": "python3"
  },
  "language_info": {
   "codemirror_mode": {
    "name": "ipython",
    "version": 3
   },
   "file_extension": ".py",
   "mimetype": "text/x-python",
   "name": "python",
   "nbconvert_exporter": "python",
   "pygments_lexer": "ipython3",
   "version": "3.6.5"
  }
 },
 "nbformat": 4,
 "nbformat_minor": 2
}
