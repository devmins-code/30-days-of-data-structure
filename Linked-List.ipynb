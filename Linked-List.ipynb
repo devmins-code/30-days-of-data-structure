{
 "cells": [
  {
   "cell_type": "markdown",
   "metadata": {},
   "source": [
    "## Linked List "
   ]
  },
  {
   "cell_type": "code",
   "execution_count": 14,
   "metadata": {},
   "outputs": [],
   "source": [
    "class node:\n",
    "    def __init__(self,data=None):\n",
    "        self.data=data\n",
    "        self.next=None\n",
    "\n",
    "class linked_list:\n",
    "    def __init__(self):\n",
    "        self.head=node()\n",
    "        self.length=0;        # count \n",
    "        self.tail = self.head #for getting the last node \n",
    "\n",
    "    # Adds new nodeto the end.\n",
    "    def append(self,data):\n",
    "        new_node=node(data)\n",
    "        cur=self.head\n",
    "        while cur.next!=None:\n",
    "            cur=cur.next\n",
    "        cur.next=new_node\n",
    "        \n",
    "        self.length += 1\n",
    "        self.tail.next = new_node\n",
    "        self.tail = new_node\n",
    "\n",
    "    # Returns the length the linked list.\n",
    "    def getlength(self):\n",
    "        cur=self.head\n",
    "        total=0\n",
    "        while cur.next!=None:\n",
    "            total+=1\n",
    "            cur=cur.next\n",
    "        return total \n",
    "\n",
    "    # Prints out the linked list  \n",
    "    def display(self):\n",
    "        elems=[]\n",
    "        cur_node=self.head\n",
    "        while cur_node.next!=None:\n",
    "            cur_node=cur_node.next\n",
    "            elems.append(cur_node.data)\n",
    "        print(elems)"
   ]
  },
  {
   "cell_type": "code",
   "execution_count": 21,
   "metadata": {},
   "outputs": [
    {
     "name": "stdout",
     "output_type": "stream",
     "text": [
      "Length of linked list->  0\n",
      "[10, 2, 31]\n",
      "Length of linked list->  3\n",
      "[10, 2, 31, 23]\n",
      "Last Node Data-> 23\n",
      "First Node Data-> 10\n"
     ]
    }
   ],
   "source": [
    "mylst = linked_list()\n",
    "print('Length of linked list-> ',mylst.length)\n",
    "mylst.append(10)\n",
    "mylst.append(2)\n",
    "mylst.append(31)\n",
    "mylst.display()\n",
    "print('Length of linked list-> ',mylst.getlength())\n",
    "mylst.append(23)\n",
    "mylst.display()\n",
    "print('Last Node Data->',mylst.tail.data)\n",
    "print('First Node Data->',mylst.head.next.data)"
   ]
  },
  {
   "cell_type": "code",
   "execution_count": null,
   "metadata": {},
   "outputs": [],
   "source": []
  }
 ],
 "metadata": {
  "kernelspec": {
   "display_name": "Python 3",
   "language": "python",
   "name": "python3"
  },
  "language_info": {
   "codemirror_mode": {
    "name": "ipython",
    "version": 3
   },
   "file_extension": ".py",
   "mimetype": "text/x-python",
   "name": "python",
   "nbconvert_exporter": "python",
   "pygments_lexer": "ipython3",
   "version": "3.6.5"
  }
 },
 "nbformat": 4,
 "nbformat_minor": 2
}
