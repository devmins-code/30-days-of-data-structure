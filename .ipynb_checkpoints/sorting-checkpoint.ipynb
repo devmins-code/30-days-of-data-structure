{
 "cells": [
  {
   "cell_type": "code",
   "execution_count": 9,
   "metadata": {},
   "outputs": [
    {
     "name": "stdout",
     "output_type": "stream",
     "text": [
      "[-2, 1, 4, 6, 9, 34, 64, 89, 200]\n"
     ]
    }
   ],
   "source": [
    "def selectionSort(nums):\n",
    "    for i in range(len(nums)-1):\n",
    "        imin = i  #setting the current index as minimum \n",
    "        for j in range(i + 1,len(nums)):\n",
    "            if (nums[j] < nums[imin]):\n",
    "                imin = j; # update the current index if current index islower than  previous\n",
    "        \n",
    "        temp = nums[i];  # swapping smallerst number at the current starting index one by one \n",
    "        nums[i] = nums[imin];\n",
    "        nums[imin] = temp;\n",
    "    print(nums)\n",
    "\n",
    "selectionSort([64,200,34,-2, 1, 4, 6, 89, 9])"
   ]
  },
  {
   "cell_type": "code",
   "execution_count": 11,
   "metadata": {},
   "outputs": [
    {
     "name": "stdout",
     "output_type": "stream",
     "text": [
      "[-2, 1, 4, 6, 9, 34, 64, 89, 200]\n"
     ]
    }
   ],
   "source": [
    "def insertionSort(nums):\n",
    "    for i in range(len(nums)):\n",
    "        value = nums[i];\n",
    "        hole = i-1;\n",
    "        while(hole>=0 and nums[hole] > value):\n",
    "            nums[hole + 1 ] = nums[hole];\n",
    "            hole -=1;\n",
    "        \n",
    "        nums[hole +1 ] = value\n",
    "    print(nums)\n",
    "\n",
    "insertionSort([64,200,34,-2, 1, 4, 6, 89, 9])"
   ]
  },
  {
   "cell_type": "code",
   "execution_count": 1,
   "metadata": {},
   "outputs": [
    {
     "name": "stdout",
     "output_type": "stream",
     "text": [
      "[1, 2, 4, 6, 9, 89]\n"
     ]
    }
   ],
   "source": [
    "def bubbleSort(nums):\n",
    "    for i in range(len(nums)):\n",
    "        for j in range(len(nums)-i-1):\n",
    "            if(nums[i]>nums[i+1]):\n",
    "                temp = nums[i];\n",
    "                nums[i] = nums[i+1]\n",
    "                nums[i+1] = temp;\n",
    "    print(nums)\n",
    "\n",
    "bubbleSort([2,1,4,6,89,9])"
   ]
  },
  {
   "cell_type": "code",
   "execution_count": 1,
   "metadata": {},
   "outputs": [
    {
     "name": "stdout",
     "output_type": "stream",
     "text": [
      "True\n",
      "False\n"
     ]
    }
   ],
   "source": [
    "# Check if an array is sorted\n",
    "\n",
    "def checkArrayIsSorted(arr):\n",
    "    for i in range(len(arr)-1):\n",
    "        if(arr[i]>arr[i+1]):\n",
    "            return False\n",
    "    return True\n",
    "\n",
    "\n",
    "print(checkArrayIsSorted([2,3,4,5,6,7,8]))\n",
    "print(checkArrayIsSorted([10,2,3,4,5,6,7,8]))"
   ]
  },
  {
   "cell_type": "code",
   "execution_count": 3,
   "metadata": {},
   "outputs": [
    {
     "name": "stdout",
     "output_type": "stream",
     "text": [
      "[0, 1, 2, 4, 5, 6, 44, 63, 87, 99, 283]\n"
     ]
    }
   ],
   "source": [
    "\"\"\"\n",
    "Merge Sort\n",
    "\"\"\"\n",
    "import math as Math\n",
    "def mergeSort(array):\n",
    "    if (len(array) == 1 ):\n",
    "        return array\n",
    "#    Split Array in into right and left from the middle \n",
    "    length = len(array)\n",
    "    middle = Math.floor(length / 2)\n",
    "    left = array[0:middle]\n",
    "    right = array[middle:]\n",
    "#     print('left:', left);\n",
    "#     print('right:', right);\n",
    "\n",
    "  \n",
    "    return merge(mergeSort(left),mergeSort(right))\n",
    "\n",
    "\n",
    "def merge(left, right):\n",
    "#     print('inside Merge ')\n",
    "    result = [];\n",
    "    leftIndex = 0;\n",
    "    rightIndex = 0;\n",
    "    while leftIndex < len(left) and rightIndex < len(right) :\n",
    "        if(left[leftIndex] < right[rightIndex]):\n",
    "            result.append(left[leftIndex])\n",
    "            leftIndex +=1\n",
    "        else:\n",
    "            result.append(right[rightIndex])\n",
    "            rightIndex +=1\n",
    "#     print('merge',left,right)\n",
    "#     print('result',result)\n",
    "#     print('left elements ->',left[leftIndex:] + right[rightIndex:])\n",
    "    # Checking if any element was left \n",
    "    return result + left[leftIndex:] + right[rightIndex:]\n",
    "\n",
    "\n",
    "\n",
    "print(mergeSort([99, 44, 6, 2, 1, 5, 63, 87, 283, 4, 0]))"
   ]
  },
  {
   "cell_type": "code",
   "execution_count": null,
   "metadata": {},
   "outputs": [],
   "source": []
  }
 ],
 "metadata": {
  "kernelspec": {
   "display_name": "Python 3",
   "language": "python",
   "name": "python3"
  },
  "language_info": {
   "codemirror_mode": {
    "name": "ipython",
    "version": 3
   },
   "file_extension": ".py",
   "mimetype": "text/x-python",
   "name": "python",
   "nbconvert_exporter": "python",
   "pygments_lexer": "ipython3",
   "version": "3.6.10"
  }
 },
 "nbformat": 4,
 "nbformat_minor": 2
}
