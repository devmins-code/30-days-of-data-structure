{
 "cells": [
  {
   "cell_type": "code",
   "execution_count": 1,
   "metadata": {},
   "outputs": [
    {
     "data": {
      "text/plain": [
       "7"
      ]
     },
     "execution_count": 1,
     "metadata": {},
     "output_type": "execute_result"
    }
   ],
   "source": [
    "# Linear Search\n",
    "def linearSearch(nums,value):\n",
    "    for i in range(len(nums)):\n",
    "        if(value == nums[i]):\n",
    "            return i\n",
    "    return False\n",
    "   \n",
    "linearSearch([2,3,4,5,6,7,8,9],9)"
   ]
  },
  {
   "cell_type": "code",
   "execution_count": 2,
   "metadata": {},
   "outputs": [
    {
     "name": "stdout",
     "output_type": "stream",
     "text": [
      "4\n",
      "-1\n"
     ]
    }
   ],
   "source": [
    "# Number of occurrence\n",
    "def Numberofoccurrence(arr,num):\n",
    "    occurance = 0;\n",
    "    for i in range(len(arr)):\n",
    "        if(arr[i]==num):\n",
    "            occurance+=1\n",
    "            \n",
    "    if(occurance > 0):\n",
    "        return occurance\n",
    "    else:\n",
    "        return -1\n",
    "\n",
    "\n",
    "print(Numberofoccurrence([1, 1, 2, 2, 2, 2, 3],2))\n",
    "print(Numberofoccurrence([1, 1, 2, 2, 2, 2, 3],4))"
   ]
  },
  {
   "cell_type": "code",
   "execution_count": 1,
   "metadata": {},
   "outputs": [
    {
     "data": {
      "text/plain": [
       "[3, 6, 8, 9]"
      ]
     },
     "execution_count": 1,
     "metadata": {},
     "output_type": "execute_result"
    }
   ],
   "source": [
    "# Missing number\n",
    "def Missingnumber(nums):\n",
    "#     sortArr = sorted(nums)\n",
    "    missingList = []\n",
    "    for i in range(min(nums),max(nums)+1):\n",
    "        if(i not in nums):\n",
    "            missingList.append(i)\n",
    "            \n",
    "    return missingList\n",
    "            \n",
    "        \n",
    "\n",
    "Missingnumber([1,5,2,4,7,10])"
   ]
  },
  {
   "cell_type": "code",
   "execution_count": 2,
   "metadata": {},
   "outputs": [
    {
     "name": "stdout",
     "output_type": "stream",
     "text": [
      "4\n",
      "-1\n"
     ]
    }
   ],
   "source": [
    "# Last index of One\n",
    "\n",
    "def LastindexofOne(nums):\n",
    "    lastIndex = -1\n",
    "    words = [i for i in nums]\n",
    "    \n",
    "    for i in range(len(words)):\n",
    "        if(words[i] == '1'):\n",
    "            lastIndex = i\n",
    "    \n",
    "    return lastIndex\n",
    "\n",
    "\n",
    "print(LastindexofOne(\"00001\"))\n",
    "print(LastindexofOne(\"0\"))"
   ]
  },
  {
   "cell_type": "code",
   "execution_count": null,
   "metadata": {},
   "outputs": [],
   "source": []
  }
 ],
 "metadata": {
  "kernelspec": {
   "display_name": "Python 3",
   "language": "python",
   "name": "python3"
  },
  "language_info": {
   "codemirror_mode": {
    "name": "ipython",
    "version": 3
   },
   "file_extension": ".py",
   "mimetype": "text/x-python",
   "name": "python",
   "nbconvert_exporter": "python",
   "pygments_lexer": "ipython3",
   "version": "3.6.5"
  }
 },
 "nbformat": 4,
 "nbformat_minor": 2
}
