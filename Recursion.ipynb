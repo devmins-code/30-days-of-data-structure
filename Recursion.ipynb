{
 "cells": [
  {
   "cell_type": "code",
   "execution_count": 1,
   "metadata": {},
   "outputs": [
    {
     "data": {
      "text/plain": [
       "24"
      ]
     },
     "execution_count": 1,
     "metadata": {},
     "output_type": "execute_result"
    }
   ],
   "source": [
    "# find Factorial Recursively\n",
    "\n",
    "def findFactorialRecursively(fact):\n",
    "#     print(fact)\n",
    "    if fact == 1:\n",
    "        return fact\n",
    "    else :\n",
    "        return fact * findFactorialRecursively(fact-1)\n",
    "        \n",
    "    \n",
    "findFactorialRecursively(4)"
   ]
  },
  {
   "cell_type": "code",
   "execution_count": 1,
   "metadata": {},
   "outputs": [
    {
     "data": {
      "text/plain": [
       "21"
      ]
     },
     "execution_count": 1,
     "metadata": {},
     "output_type": "execute_result"
    }
   ],
   "source": [
    "def fibonacciRecursion(n):\n",
    "    if(n < 2):\n",
    "        return n\n",
    "    return fibonacciRecursion(n-1) + fibonacciRecursion(n-2)\n",
    "\n",
    "fibonacciRecursion(8)"
   ]
  },
  {
   "cell_type": "code",
   "execution_count": null,
   "metadata": {},
   "outputs": [],
   "source": []
  }
 ],
 "metadata": {
  "kernelspec": {
   "display_name": "Python 3",
   "language": "python",
   "name": "python3"
  },
  "language_info": {
   "codemirror_mode": {
    "name": "ipython",
    "version": 3
   },
   "file_extension": ".py",
   "mimetype": "text/x-python",
   "name": "python",
   "nbconvert_exporter": "python",
   "pygments_lexer": "ipython3",
   "version": "3.5.5"
  }
 },
 "nbformat": 4,
 "nbformat_minor": 2
}
